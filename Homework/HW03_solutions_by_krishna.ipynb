{
 "cells": [
  {
   "cell_type": "code",
   "execution_count": 1,
   "metadata": {
    "id": "_I8EIQyvPKxA"
   },
   "outputs": [],
   "source": [
    "import matplotlib.pyplot as plt\n",
    "class rectangle:\n",
    "  def __init__(self, a, b, x1, y1):\n",
    "    self.length1 = a\n",
    "    self.length2 = b\n",
    "    self.x1 = x1\n",
    "    self.y1 = y1\n",
    "\n",
    "  def area(self):\n",
    "    return self.length1 *self.length2\n",
    "\n",
    "  def perimeter(self):\n",
    "    return 2*(self.length1 + self.length2)\n",
    "\n",
    "  def plot_shape(self):\n",
    "   plt.axes()\n",
    "   square_shape = plt.Rectangle((0,0), self.length1, self.length2)\n",
    "   plt.gca().add_patch(square_shape)\n",
    "   plt.axis('scaled')\n",
    "   plt.show()\n",
    "   \n",
    "  def shift(self, x1, y1):\n",
    "   square_shape = plt.Rectangle((self.x1, self.y1), self.length1, self.length2)\n",
    "   plt.gca().add_patch(square_shape)\n",
    "   plt.axis('scaled')\n",
    "   plt.show()\n",
    "  \n",
    "class square(rectangle):\n",
    "  def __init__(self, a, x1, y1):\n",
    "    super().__init__(a,a,x1,y1)"
   ]
  },
  {
   "cell_type": "code",
   "execution_count": 2,
   "metadata": {
    "id": "MtvqG42WtgJL"
   },
   "outputs": [],
   "source": [
    "rec1 = rectangle(5,3,2,2)\n",
    "squ1 = square(4,2,2)"
   ]
  },
  {
   "cell_type": "code",
   "execution_count": 3,
   "metadata": {
    "colab": {
     "base_uri": "https://localhost:8080/"
    },
    "id": "o1sNxEFn7XzF",
    "outputId": "b3fddb4a-2898-4ef4-d881-f89da6f84202"
   },
   "outputs": [
    {
     "name": "stdout",
     "output_type": "stream",
     "text": [
      "The area of the retangle is:  15\n",
      "The area of the square is:  16\n"
     ]
    }
   ],
   "source": [
    "#Get the area for rectangle and square\n",
    "print(f\"The area of the retangle is: \", rec1.area())\n",
    "print(f\"The area of the square is: \", squ1.area())"
   ]
  },
  {
   "cell_type": "code",
   "execution_count": 4,
   "metadata": {
    "colab": {
     "base_uri": "https://localhost:8080/"
    },
    "id": "jVWfP521k0Qc",
    "outputId": "334c2e2a-82dd-46a7-ccff-c998b3e3ed0a"
   },
   "outputs": [
    {
     "name": "stdout",
     "output_type": "stream",
     "text": [
      "16.0\n",
      "16.0\n"
     ]
    }
   ],
   "source": [
    "#Get the perimeter for rectangle and square\n",
    "print(float(rec1.perimeter()))\n",
    "print(float(squ1.perimeter()))"
   ]
  },
  {
   "cell_type": "code",
   "execution_count": 5,
   "metadata": {
    "colab": {
     "base_uri": "https://localhost:8080/",
     "height": 568
    },
    "id": "_x4ntMy57crF",
    "outputId": "fff74253-f6fd-4bf6-d155-2c6a86e4ac28"
   },
   "outputs": [
    {
     "data": {
      "image/png": "[encoded data removed]",
      "text/plain": [
       "<Figure size 432x288 with 1 Axes>"
      ]
     },
     "metadata": {
      "needs_background": "light"
     },
     "output_type": "display_data"
    },
    {
     "name": "stdout",
     "output_type": "stream",
     "text": [
      "The plot for the rectangle is: \n",
      " None\n"
     ]
    },
    {
     "data": {
      "image/png": "[encoded data removed]",
      "text/plain": [
       "<Figure size 432x288 with 1 Axes>"
      ]
     },
     "metadata": {
      "needs_background": "light"
     },
     "output_type": "display_data"
    },
    {
     "name": "stdout",
     "output_type": "stream",
     "text": [
      "The plot of the square is: \n",
      " None\n"
     ]
    }
   ],
   "source": [
    "#Plot the rectangle and square\n",
    "print(\"The plot for the rectangle is: \\n\", rec1.plot_shape())\n",
    "print(\"The plot of the square is: \\n\", squ1.plot_shape())"
   ]
  },
  {
   "cell_type": "code",
   "execution_count": 6,
   "metadata": {},
   "outputs": [
    {
     "data": {
      "image/png": "[encoded data removed]",
      "text/plain": [
       "<Figure size 432x288 with 1 Axes>"
      ]
     },
     "metadata": {
      "needs_background": "light"
     },
     "output_type": "display_data"
    },
    {
     "name": "stdout",
     "output_type": "stream",
     "text": [
      "The rectangle after shift is:  None\n"
     ]
    },
    {
     "data": {
      "image/png": "[encoded data removed]",
      "text/plain": [
       "<Figure size 432x288 with 1 Axes>"
      ]
     },
     "metadata": {
      "needs_background": "light"
     },
     "output_type": "display_data"
    },
    {
     "name": "stdout",
     "output_type": "stream",
     "text": [
      "The square after shift is:  None\n"
     ]
    }
   ],
   "source": [
    "#shift the rectangle and square\n",
    "print(\"The rectangle after shift is: \",rec1.shift(2, 2))\n",
    "print(\"The square after shift is: \", squ1.shift(2, 2))"
   ]
  },
  {
   "cell_type": "code",
   "execution_count": null,
   "metadata": {},
   "outputs": [],
   "source": []
  }
 ],
 "metadata": {
  "colab": {
   "name": "ANNAPUREDDY_HW03.ipynb",
   "provenance": []
  },
  "kernelspec": {
   "display_name": "Python 3 (ipykernel)",
   "language": "python",
   "name": "python3"
  },
  "language_info": {
   "codemirror_mode": {
    "name": "ipython",
    "version": 3
   },
   "file_extension": ".py",
   "mimetype": "text/x-python",
   "name": "python",
   "nbconvert_exporter": "python",
   "pygments_lexer": "ipython3",
   "version": "3.9.12"
  }
 },
 "nbformat": 4,
 "nbformat_minor": 1
}
