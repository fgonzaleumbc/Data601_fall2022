{
 "cells": [
  {
   "cell_type": "code",
   "execution_count": 1,
   "id": "20a4972a",
   "metadata": {},
   "outputs": [],
   "source": [
    "import pandas as pd\n",
    "import sqlite3"
   ]
  },
  {
   "cell_type": "markdown",
   "id": "2260f93a",
   "metadata": {},
   "source": [
    "Flight Data\n",
    "Convert to SQL datafile (e.g., .db)\n",
    "Connect to SQL file, convert to pandas DF, groupby Year/Origin/Destination/Carrier and give mean or max/min of air_time or distance or delay and sort."
   ]
  },
  {
   "cell_type": "markdown",
   "id": "ff03fd8b",
   "metadata": {},
   "source": [
    "# Loading CSV Data File "
   ]
  },
  {
   "cell_type": "code",
   "execution_count": 2,
   "id": "c5e8ae8d",
   "metadata": {},
   "outputs": [],
   "source": [
    "# LOADING CSV FILE\n",
    "# Na_values may need to be reviewed as some datasets may include an accronym.\n",
    "# For example, 'NA' may be an abbreviation for 'North America'.\n",
    "df_data_flights = pd.read_csv('./input_data/flights.csv', \n",
    "                      #encoding = \"utf-8-sig\",\n",
    "                      #parse_dates=['year'],\n",
    "                      keep_default_na=False,\n",
    "                      na_values=['', '-1.#IND', '1.#QNAN', '1.#IND', '-1.#QNAN', '#N/A','N/A', '#NA', 'NULL', 'NaN', '-NaN', 'nan', '-nan']) \n",
    "\n",
    "df_data_airports = pd.read_csv('./input_data/airports.csv', \n",
    "                               #encoding = \"utf-8-sig\",\n",
    "                               #parse_dates=['year'],\n",
    "                               keep_default_na=False,\n",
    "                               na_values=['', '-1.#IND', '1.#QNAN', '1.#IND', '-1.#QNAN', '#N/A','N/A', '#NA', 'NULL', 'NaN', '-NaN', 'nan', '-nan']) \n",
    "\n",
    "df_data_airlines = pd.read_csv('./input_data/airlines.csv', \n",
    "                               #encoding = \"utf-8-sig\",\n",
    "                               #parse_dates=['year'],\n",
    "                               keep_default_na=False,\n",
    "                               na_values=['', '-1.#IND', '1.#QNAN', '1.#IND', '-1.#QNAN', '#N/A','N/A', '#NA', 'NULL', 'NaN', '-NaN', 'nan', '-nan']) \n",
    "\n",
    "\n",
    "# IF LOADING EXCEL FILE: use pd.read_excel.\n",
    "#df_data = pd.read_excel('.\\input_data\\FILE_NAME.xlsx', parse_dates=['Date', 'Final Date'])\n",
    "\n",
    "# Encoding \"cp1252\" or \"utf-8-sig\" used so that Excel does not create special characters. Standard Python is utf-8.\n",
    "# See reference for explanation https://stackoverflow.com/questions/57061645/why-is-%C3%82-printed-in-front-of-%C2%B1-when-code-is-run"
   ]
  },
  {
   "cell_type": "code",
   "execution_count": 3,
   "id": "a559e516",
   "metadata": {},
   "outputs": [
    {
     "data": {
      "text/html": [
       "<div>\n",
       "<style scoped>\n",
       "    .dataframe tbody tr th:only-of-type {\n",
       "        vertical-align: middle;\n",
       "    }\n",
       "\n",
       "    .dataframe tbody tr th {\n",
       "        vertical-align: top;\n",
       "    }\n",
       "\n",
       "    .dataframe thead th {\n",
       "        text-align: right;\n",
       "    }\n",
       "</style>\n",
       "<table border=\"1\" class=\"dataframe\">\n",
       "  <thead>\n",
       "    <tr style=\"text-align: right;\">\n",
       "      <th></th>\n",
       "      <th>Unnamed: 0</th>\n",
       "      <th>year</th>\n",
       "      <th>month</th>\n",
       "      <th>day</th>\n",
       "      <th>dep_time</th>\n",
       "      <th>dep_delay</th>\n",
       "      <th>arr_time</th>\n",
       "      <th>arr_delay</th>\n",
       "      <th>carrier</th>\n",
       "      <th>tailnum</th>\n",
       "      <th>flight</th>\n",
       "      <th>origin</th>\n",
       "      <th>dest</th>\n",
       "      <th>air_time</th>\n",
       "      <th>distance</th>\n",
       "      <th>hour</th>\n",
       "      <th>minute</th>\n",
       "    </tr>\n",
       "  </thead>\n",
       "  <tbody>\n",
       "    <tr>\n",
       "      <th>0</th>\n",
       "      <td>361</td>\n",
       "      <td>2013</td>\n",
       "      <td>1</td>\n",
       "      <td>1</td>\n",
       "      <td>1315</td>\n",
       "      <td>-2</td>\n",
       "      <td>1413</td>\n",
       "      <td>-10</td>\n",
       "      <td>EV</td>\n",
       "      <td>N13538</td>\n",
       "      <td>4112</td>\n",
       "      <td>EWR</td>\n",
       "      <td>ALB</td>\n",
       "      <td>33</td>\n",
       "      <td>143</td>\n",
       "      <td>13</td>\n",
       "      <td>15</td>\n",
       "    </tr>\n",
       "    <tr>\n",
       "      <th>1</th>\n",
       "      <td>570</td>\n",
       "      <td>2013</td>\n",
       "      <td>1</td>\n",
       "      <td>1</td>\n",
       "      <td>1655</td>\n",
       "      <td>34</td>\n",
       "      <td>1804</td>\n",
       "      <td>40</td>\n",
       "      <td>EV</td>\n",
       "      <td>N19554</td>\n",
       "      <td>3260</td>\n",
       "      <td>EWR</td>\n",
       "      <td>ALB</td>\n",
       "      <td>36</td>\n",
       "      <td>143</td>\n",
       "      <td>16</td>\n",
       "      <td>55</td>\n",
       "    </tr>\n",
       "    <tr>\n",
       "      <th>2</th>\n",
       "      <td>785</td>\n",
       "      <td>2013</td>\n",
       "      <td>1</td>\n",
       "      <td>1</td>\n",
       "      <td>2056</td>\n",
       "      <td>52</td>\n",
       "      <td>2156</td>\n",
       "      <td>44</td>\n",
       "      <td>EV</td>\n",
       "      <td>N12540</td>\n",
       "      <td>4170</td>\n",
       "      <td>EWR</td>\n",
       "      <td>ALB</td>\n",
       "      <td>31</td>\n",
       "      <td>143</td>\n",
       "      <td>20</td>\n",
       "      <td>56</td>\n",
       "    </tr>\n",
       "  </tbody>\n",
       "</table>\n",
       "</div>"
      ],
      "text/plain": [
       "   Unnamed: 0  year  month  day dep_time dep_delay arr_time arr_delay carrier  \\\n",
       "0         361  2013      1    1     1315        -2     1413       -10      EV   \n",
       "1         570  2013      1    1     1655        34     1804        40      EV   \n",
       "2         785  2013      1    1     2056        52     2156        44      EV   \n",
       "\n",
       "  tailnum  flight origin dest air_time  distance hour minute  \n",
       "0  N13538    4112    EWR  ALB       33       143   13     15  \n",
       "1  N19554    3260    EWR  ALB       36       143   16     55  \n",
       "2  N12540    4170    EWR  ALB       31       143   20     56  "
      ]
     },
     "execution_count": 3,
     "metadata": {},
     "output_type": "execute_result"
    }
   ],
   "source": [
    "df_data_flights.head(3)"
   ]
  },
  {
   "cell_type": "code",
   "execution_count": 4,
   "id": "ef18e56e",
   "metadata": {},
   "outputs": [
    {
     "data": {
      "text/html": [
       "<div>\n",
       "<style scoped>\n",
       "    .dataframe tbody tr th:only-of-type {\n",
       "        vertical-align: middle;\n",
       "    }\n",
       "\n",
       "    .dataframe tbody tr th {\n",
       "        vertical-align: top;\n",
       "    }\n",
       "\n",
       "    .dataframe thead th {\n",
       "        text-align: right;\n",
       "    }\n",
       "</style>\n",
       "<table border=\"1\" class=\"dataframe\">\n",
       "  <thead>\n",
       "    <tr style=\"text-align: right;\">\n",
       "      <th></th>\n",
       "      <th>faa</th>\n",
       "      <th>name</th>\n",
       "      <th>lat</th>\n",
       "      <th>lon</th>\n",
       "      <th>alt</th>\n",
       "      <th>tz</th>\n",
       "      <th>dst</th>\n",
       "      <th>tzone</th>\n",
       "    </tr>\n",
       "  </thead>\n",
       "  <tbody>\n",
       "    <tr>\n",
       "      <th>0</th>\n",
       "      <td>04G</td>\n",
       "      <td>Lansdowne Airport</td>\n",
       "      <td>41.130472</td>\n",
       "      <td>-80.619583</td>\n",
       "      <td>1044</td>\n",
       "      <td>-5</td>\n",
       "      <td>A</td>\n",
       "      <td>America/New_York</td>\n",
       "    </tr>\n",
       "    <tr>\n",
       "      <th>1</th>\n",
       "      <td>06A</td>\n",
       "      <td>Moton Field Municipal Airport</td>\n",
       "      <td>32.460572</td>\n",
       "      <td>-85.680028</td>\n",
       "      <td>264</td>\n",
       "      <td>-6</td>\n",
       "      <td>A</td>\n",
       "      <td>America/Chicago</td>\n",
       "    </tr>\n",
       "    <tr>\n",
       "      <th>2</th>\n",
       "      <td>06C</td>\n",
       "      <td>Schaumburg Regional</td>\n",
       "      <td>41.989341</td>\n",
       "      <td>-88.101243</td>\n",
       "      <td>801</td>\n",
       "      <td>-6</td>\n",
       "      <td>A</td>\n",
       "      <td>America/Chicago</td>\n",
       "    </tr>\n",
       "  </tbody>\n",
       "</table>\n",
       "</div>"
      ],
      "text/plain": [
       "   faa                           name        lat        lon   alt  tz dst  \\\n",
       "0  04G              Lansdowne Airport  41.130472 -80.619583  1044  -5   A   \n",
       "1  06A  Moton Field Municipal Airport  32.460572 -85.680028   264  -6   A   \n",
       "2  06C            Schaumburg Regional  41.989341 -88.101243   801  -6   A   \n",
       "\n",
       "              tzone  \n",
       "0  America/New_York  \n",
       "1   America/Chicago  \n",
       "2   America/Chicago  "
      ]
     },
     "execution_count": 4,
     "metadata": {},
     "output_type": "execute_result"
    }
   ],
   "source": [
    "df_data_airports.head(3)"
   ]
  },
  {
   "cell_type": "code",
   "execution_count": 5,
   "id": "cc97592b",
   "metadata": {},
   "outputs": [
    {
     "data": {
      "text/html": [
       "<div>\n",
       "<style scoped>\n",
       "    .dataframe tbody tr th:only-of-type {\n",
       "        vertical-align: middle;\n",
       "    }\n",
       "\n",
       "    .dataframe tbody tr th {\n",
       "        vertical-align: top;\n",
       "    }\n",
       "\n",
       "    .dataframe thead th {\n",
       "        text-align: right;\n",
       "    }\n",
       "</style>\n",
       "<table border=\"1\" class=\"dataframe\">\n",
       "  <thead>\n",
       "    <tr style=\"text-align: right;\">\n",
       "      <th></th>\n",
       "      <th>carrier</th>\n",
       "      <th>name</th>\n",
       "    </tr>\n",
       "  </thead>\n",
       "  <tbody>\n",
       "    <tr>\n",
       "      <th>0</th>\n",
       "      <td>9E</td>\n",
       "      <td>Endeavor Air Inc.</td>\n",
       "    </tr>\n",
       "    <tr>\n",
       "      <th>1</th>\n",
       "      <td>AA</td>\n",
       "      <td>American Airlines Inc.</td>\n",
       "    </tr>\n",
       "    <tr>\n",
       "      <th>2</th>\n",
       "      <td>AS</td>\n",
       "      <td>Alaska Airlines Inc.</td>\n",
       "    </tr>\n",
       "  </tbody>\n",
       "</table>\n",
       "</div>"
      ],
      "text/plain": [
       "  carrier                    name\n",
       "0      9E       Endeavor Air Inc.\n",
       "1      AA  American Airlines Inc.\n",
       "2      AS    Alaska Airlines Inc."
      ]
     },
     "execution_count": 5,
     "metadata": {},
     "output_type": "execute_result"
    }
   ],
   "source": [
    "df_data_airlines.head(3)"
   ]
  },
  {
   "cell_type": "markdown",
   "id": "4c37fcfe",
   "metadata": {},
   "source": [
    "# Converting Dataframe to SQL"
   ]
  },
  {
   "cell_type": "code",
   "execution_count": 6,
   "id": "93ddb724",
   "metadata": {},
   "outputs": [],
   "source": [
    "conn = sqlite3.connect('./output_data/flights_database.db') # Creates the flights_database\n",
    "c = conn.cursor() # Creates cursor."
   ]
  },
  {
   "cell_type": "code",
   "execution_count": 7,
   "id": "de7aae1b",
   "metadata": {},
   "outputs": [
    {
     "data": {
      "text/plain": [
       "145735"
      ]
     },
     "execution_count": 7,
     "metadata": {},
     "output_type": "execute_result"
    }
   ],
   "source": [
    "# Creates the flights table within the flights_database\n",
    "df_data_flights.to_sql('flights', conn, if_exists='replace', index = False) "
   ]
  },
  {
   "cell_type": "code",
   "execution_count": 8,
   "id": "416c5f19",
   "metadata": {},
   "outputs": [
    {
     "data": {
      "text/plain": [
       "1458"
      ]
     },
     "execution_count": 8,
     "metadata": {},
     "output_type": "execute_result"
    }
   ],
   "source": [
    "# Creates the airports table within the flights_database\n",
    "df_data_airports.to_sql('airports', conn, if_exists='replace', index = False)"
   ]
  },
  {
   "cell_type": "code",
   "execution_count": 9,
   "id": "3b889f67",
   "metadata": {},
   "outputs": [
    {
     "data": {
      "text/plain": [
       "16"
      ]
     },
     "execution_count": 9,
     "metadata": {},
     "output_type": "execute_result"
    }
   ],
   "source": [
    "# Creates the airlines table within the flights_database\n",
    "df_data_airlines.to_sql('airlines', conn, if_exists='replace', index = False)"
   ]
  },
  {
   "cell_type": "code",
   "execution_count": 10,
   "id": "d886a301",
   "metadata": {},
   "outputs": [],
   "source": [
    "conn.close() # Closes connection."
   ]
  },
  {
   "cell_type": "markdown",
   "id": "a9439278",
   "metadata": {},
   "source": [
    "# Notebook End"
   ]
  },
  {
   "cell_type": "code",
   "execution_count": null,
   "id": "3fa93b88",
   "metadata": {},
   "outputs": [],
   "source": []
  },
  {
   "cell_type": "code",
   "execution_count": null,
   "id": "d0e18cf2",
   "metadata": {},
   "outputs": [],
   "source": []
  },
  {
   "cell_type": "code",
   "execution_count": null,
   "id": "bea17280",
   "metadata": {},
   "outputs": [],
   "source": []
  }
 ],
 "metadata": {
  "kernelspec": {
   "display_name": "Python 3 (ipykernel)",
   "language": "python",
   "name": "python3"
  },
  "language_info": {
   "codemirror_mode": {
    "name": "ipython",
    "version": 3
   },
   "file_extension": ".py",
   "mimetype": "text/x-python",
   "name": "python",
   "nbconvert_exporter": "python",
   "pygments_lexer": "ipython3",
   "version": "3.9.12"
  }
 },
 "nbformat": 4,
 "nbformat_minor": 5
}
