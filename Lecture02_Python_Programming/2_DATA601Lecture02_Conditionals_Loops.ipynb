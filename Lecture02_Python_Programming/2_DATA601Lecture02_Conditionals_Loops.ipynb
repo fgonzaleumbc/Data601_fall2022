{
 "cells": [
  {
   "cell_type": "markdown",
   "metadata": {
    "colab_type": "text",
    "id": "WEIs8PRG_pHF"
   },
   "source": [
    "# If Statement"
   ]
  },
  {
   "cell_type": "code",
   "execution_count": 1,
   "metadata": {},
   "outputs": [
    {
     "name": "stdout",
     "output_type": "stream",
     "text": [
      "18\n"
     ]
    }
   ],
   "source": [
    "# generate a random integer\n",
    "from random import randint\n",
    "# example: to generate a number between 0 and 20.\n",
    "print(randint(0,21))"
   ]
  },
  {
   "cell_type": "code",
   "execution_count": 2,
   "metadata": {},
   "outputs": [
    {
     "name": "stdout",
     "output_type": "stream",
     "text": [
      "a assessed\n"
     ]
    }
   ],
   "source": [
    "a = randint(0,21)\n",
    "if a<10:\n",
    "    print(\"a is less than 10\")\n",
    "print(\"a assessed\")"
   ]
  },
  {
   "cell_type": "markdown",
   "metadata": {},
   "source": [
    "USING input()"
   ]
  },
  {
   "cell_type": "code",
   "execution_count": 3,
   "metadata": {
    "colab": {
     "base_uri": "https://localhost:8080/",
     "height": 34
    },
    "colab_type": "code",
    "executionInfo": {
     "elapsed": 3473,
     "status": "ok",
     "timestamp": 1559584398360,
     "user": {
      "displayName": "Ergun Simsek",
      "photoUrl": "https://lh3.googleusercontent.com/-qBP5H5Ff-uU/AAAAAAAAAAI/AAAAAAAAAAc/lXze-Fwum9g/s64/photo.jpg",
      "userId": "16739529127101354422"
     },
     "user_tz": 240
    },
    "id": "QJ2TmsBd_9NM",
    "outputId": "808014be-eea3-4165-80ff-671b310c73ce"
   },
   "outputs": [
    {
     "name": "stdout",
     "output_type": "stream",
     "text": [
      "Please input a number: 1\n"
     ]
    }
   ],
   "source": [
    "a = eval(input(\"Please input a number: \"))\n",
    "# Calling eval() with a string as an argument, the function returns the value that results from evaluating the input string.\n",
    "# Alternatively could use int() or float(). Note that if using int() and using a float as input will return an error. "
   ]
  },
  {
   "cell_type": "code",
   "execution_count": 4,
   "metadata": {
    "colab": {
     "base_uri": "https://localhost:8080/",
     "height": 34
    },
    "colab_type": "code",
    "executionInfo": {
     "elapsed": 356,
     "status": "ok",
     "timestamp": 1559584415034,
     "user": {
      "displayName": "Ergun Simsek",
      "photoUrl": "https://lh3.googleusercontent.com/-qBP5H5Ff-uU/AAAAAAAAAAI/AAAAAAAAAAc/lXze-Fwum9g/s64/photo.jpg",
      "userId": "16739529127101354422"
     },
     "user_tz": 240
    },
    "id": "UVtoFm3bADZ7",
    "outputId": "d51ebe19-810a-4d27-e363-535af27586df"
   },
   "outputs": [
    {
     "name": "stdout",
     "output_type": "stream",
     "text": [
      "The absolute value is 1\n"
     ]
    }
   ],
   "source": [
    "if a < 0: # Note that to compare \"a\" variable has to be a number (float or int) and not a string. \n",
    "    a = -a\n",
    "print(\"The absolute value is\", a)"
   ]
  },
  {
   "cell_type": "markdown",
   "metadata": {
    "colab_type": "text",
    "id": "IJddSr3LAIha"
   },
   "source": [
    "# If-Else Statement"
   ]
  },
  {
   "cell_type": "code",
   "execution_count": 5,
   "metadata": {},
   "outputs": [],
   "source": [
    "a = randint(0,21)"
   ]
  },
  {
   "cell_type": "code",
   "execution_count": 6,
   "metadata": {},
   "outputs": [
    {
     "name": "stdout",
     "output_type": "stream",
     "text": [
      "a is less than 10\n",
      "a was 2\n"
     ]
    }
   ],
   "source": [
    "if a<10:\n",
    "    print(\"a is less than 10\")\n",
    "else:\n",
    "    print(\"a is greater than 10\")\n",
    "print(\"a was\", str(a))"
   ]
  },
  {
   "cell_type": "code",
   "execution_count": 7,
   "metadata": {},
   "outputs": [
    {
     "name": "stdout",
     "output_type": "stream",
     "text": [
      "it is less than 5\n",
      "a was 4\n"
     ]
    }
   ],
   "source": [
    "a = randint(0,21)\n",
    "b = \"it is less than 5\" if a<5 else \"it more than five\"\n",
    "print(b)\n",
    "print(\"a was\", str(a))"
   ]
  },
  {
   "cell_type": "code",
   "execution_count": 8,
   "metadata": {},
   "outputs": [
    {
     "name": "stdout",
     "output_type": "stream",
     "text": [
      "25\n"
     ]
    }
   ],
   "source": [
    "# In a single line\n",
    "x, y = 50, 25\n",
    "small = x if x < y else y\n",
    "print(small)"
   ]
  },
  {
   "cell_type": "markdown",
   "metadata": {},
   "source": [
    "USING input()"
   ]
  },
  {
   "cell_type": "code",
   "execution_count": 9,
   "metadata": {
    "colab": {
     "base_uri": "https://localhost:8080/",
     "height": 34
    },
    "colab_type": "code",
    "executionInfo": {
     "elapsed": 2909,
     "status": "ok",
     "timestamp": 1559584724158,
     "user": {
      "displayName": "Ergun Simsek",
      "photoUrl": "https://lh3.googleusercontent.com/-qBP5H5Ff-uU/AAAAAAAAAAI/AAAAAAAAAAc/lXze-Fwum9g/s64/photo.jpg",
      "userId": "16739529127101354422"
     },
     "user_tz": 240
    },
    "id": "vh8uLWtg_Lbh",
    "outputId": "df72862b-5ff2-4abc-9ed6-16aead06f969"
   },
   "outputs": [
    {
     "name": "stdout",
     "output_type": "stream",
     "text": [
      "Please input a positive integer: 2\n"
     ]
    }
   ],
   "source": [
    "a = int(input(\"Please input a positive integer: \"))"
   ]
  },
  {
   "cell_type": "code",
   "execution_count": 10,
   "metadata": {
    "colab": {
     "base_uri": "https://localhost:8080/",
     "height": 34
    },
    "colab_type": "code",
    "executionInfo": {
     "elapsed": 282,
     "status": "ok",
     "timestamp": 1559584726294,
     "user": {
      "displayName": "Ergun Simsek",
      "photoUrl": "https://lh3.googleusercontent.com/-qBP5H5Ff-uU/AAAAAAAAAAI/AAAAAAAAAAc/lXze-Fwum9g/s64/photo.jpg",
      "userId": "16739529127101354422"
     },
     "user_tz": 240
    },
    "id": "Pspqqd4j_ToX",
    "outputId": "d3eb86b0-158f-4f3f-b216-c98cd62cf8db"
   },
   "outputs": [
    {
     "name": "stdout",
     "output_type": "stream",
     "text": [
      "2 is an even number.\n"
     ]
    }
   ],
   "source": [
    "if a < 0:\n",
    "  print('You have entered a negative number')\n",
    "else:\n",
    "  if a%2 == 0:\n",
    "    print(a, \"is an even number.\")\n",
    "  else:\n",
    "    print(a, \"is an odd number.\")"
   ]
  },
  {
   "cell_type": "markdown",
   "metadata": {
    "colab_type": "text",
    "id": "BJ1DjK_oCSBn"
   },
   "source": [
    "# if-elif-else example"
   ]
  },
  {
   "cell_type": "code",
   "execution_count": 11,
   "metadata": {
    "colab": {},
    "colab_type": "code",
    "id": "ISJpXVUhCP_g"
   },
   "outputs": [],
   "source": [
    "# Suppose we want to know if the solutions to the quadratic equation $ax^2+bx+c=0$ \n",
    "# are real, imaginary, or complex for a given set of coefficients a, b, and c. "
   ]
  },
  {
   "cell_type": "code",
   "execution_count": 12,
   "metadata": {
    "colab": {
     "base_uri": "https://localhost:8080/",
     "height": 34
    },
    "colab_type": "code",
    "executionInfo": {
     "elapsed": 4418,
     "status": "ok",
     "timestamp": 1559577539814,
     "user": {
      "displayName": "Ergun Simsek",
      "photoUrl": "https://lh3.googleusercontent.com/-qBP5H5Ff-uU/AAAAAAAAAAI/AAAAAAAAAAc/lXze-Fwum9g/s64/photo.jpg",
      "userId": "16739529127101354422"
     },
     "user_tz": 240
    },
    "id": "JlzTEnZUC4AE",
    "outputId": "beed49c4-78de-4870-bce8-24e720c503d1"
   },
   "outputs": [
    {
     "name": "stdout",
     "output_type": "stream",
     "text": [
      "What is the coefficient a? 3\n"
     ]
    }
   ],
   "source": [
    "a = float(input(\"What is the coefficient a? \"))"
   ]
  },
  {
   "cell_type": "code",
   "execution_count": 13,
   "metadata": {
    "colab": {
     "base_uri": "https://localhost:8080/",
     "height": 34
    },
    "colab_type": "code",
    "executionInfo": {
     "elapsed": 3076,
     "status": "ok",
     "timestamp": 1559577545475,
     "user": {
      "displayName": "Ergun Simsek",
      "photoUrl": "https://lh3.googleusercontent.com/-qBP5H5Ff-uU/AAAAAAAAAAI/AAAAAAAAAAc/lXze-Fwum9g/s64/photo.jpg",
      "userId": "16739529127101354422"
     },
     "user_tz": 240
    },
    "id": "uPaPGLSYCmTC",
    "outputId": "a8272b69-ec63-4b62-fd00-b45e64652d8c"
   },
   "outputs": [
    {
     "name": "stdout",
     "output_type": "stream",
     "text": [
      "What is the coefficient b? 3\n"
     ]
    }
   ],
   "source": [
    "b = float(input(\"What is the coefficient b? \"))"
   ]
  },
  {
   "cell_type": "code",
   "execution_count": 14,
   "metadata": {
    "colab": {
     "base_uri": "https://localhost:8080/",
     "height": 34
    },
    "colab_type": "code",
    "executionInfo": {
     "elapsed": 3330,
     "status": "ok",
     "timestamp": 1559577551220,
     "user": {
      "displayName": "Ergun Simsek",
      "photoUrl": "https://lh3.googleusercontent.com/-qBP5H5Ff-uU/AAAAAAAAAAI/AAAAAAAAAAc/lXze-Fwum9g/s64/photo.jpg",
      "userId": "16739529127101354422"
     },
     "user_tz": 240
    },
    "id": "7iRxsK75DBbx",
    "outputId": "f1949e9b-d623-4ee1-b7f0-154e60b014e9"
   },
   "outputs": [
    {
     "name": "stdout",
     "output_type": "stream",
     "text": [
      "What is the coefficient c? 4\n"
     ]
    }
   ],
   "source": [
    "c = float(input(\"What is the coefficient c? \"))"
   ]
  },
  {
   "cell_type": "code",
   "execution_count": 15,
   "metadata": {
    "colab": {
     "base_uri": "https://localhost:8080/",
     "height": 85
    },
    "colab_type": "code",
    "executionInfo": {
     "elapsed": 390,
     "status": "ok",
     "timestamp": 1559577553547,
     "user": {
      "displayName": "Ergun Simsek",
      "photoUrl": "https://lh3.googleusercontent.com/-qBP5H5Ff-uU/AAAAAAAAAAI/AAAAAAAAAAc/lXze-Fwum9g/s64/photo.jpg",
      "userId": "16739529127101354422"
     },
     "user_tz": 240
    },
    "id": "VPtVOiCYDH2O",
    "outputId": "acb500e3-993a-4383-b25b-9c4a04ad5985"
   },
   "outputs": [
    {
     "name": "stdout",
     "output_type": "stream",
     "text": [
      "Solutions are complex\n",
      "Finished!\n"
     ]
    }
   ],
   "source": [
    "from math import sqrt\n",
    "d = b*b - 4.*a*c\n",
    "if d >= 0.0:\n",
    "    print(\"Solutions are real\")         # block 1   \n",
    "    x1 = (-b+sqrt(d))/2.0/a\n",
    "    x2 = (-b-sqrt(d))/2.0/a\n",
    "    print(\"Solution1 = \", x1)\n",
    "    print(\"Solution2 = \", x2)    \n",
    "elif b == 0.0:\n",
    "    print(\"Solutions are imaginary\")    # block 2\n",
    "else:\n",
    "    print(\"Solutions are complex\")      # block 3\n",
    "print(\"Finished!\")"
   ]
  },
  {
   "cell_type": "code",
   "execution_count": 16,
   "metadata": {
    "colab": {},
    "colab_type": "code",
    "id": "uK9UFdFMDMua"
   },
   "outputs": [],
   "source": [
    "# EXAMPLE-2\n",
    "# First learn how to generate random integers"
   ]
  },
  {
   "cell_type": "code",
   "execution_count": 17,
   "metadata": {
    "colab": {
     "base_uri": "https://localhost:8080/",
     "height": 187
    },
    "colab_type": "code",
    "executionInfo": {
     "elapsed": 294,
     "status": "ok",
     "timestamp": 1559578303092,
     "user": {
      "displayName": "Ergun Simsek",
      "photoUrl": "https://lh3.googleusercontent.com/-qBP5H5Ff-uU/AAAAAAAAAAI/AAAAAAAAAAc/lXze-Fwum9g/s64/photo.jpg",
      "userId": "16739529127101354422"
     },
     "user_tz": 240
    },
    "id": "iarPFlDhGEde",
    "outputId": "04c2a67a-5d37-4b6d-a9d6-6debe07e3309"
   },
   "outputs": [
    {
     "name": "stdout",
     "output_type": "stream",
     "text": [
      "2\n",
      "27\n",
      "76\n",
      "46\n",
      "75\n",
      "7\n",
      "80\n",
      "62\n",
      "63\n",
      "79\n"
     ]
    }
   ],
   "source": [
    "from random import randint\n",
    "# let's generate a number between 0 and 100.\n",
    "for x in range(10):\n",
    "  print(randint(0,101))"
   ]
  },
  {
   "cell_type": "code",
   "execution_count": 18,
   "metadata": {
    "colab": {},
    "colab_type": "code",
    "id": "lboWE8NcGOkm"
   },
   "outputs": [],
   "source": [
    "# Let's assign grades"
   ]
  },
  {
   "cell_type": "code",
   "execution_count": 19,
   "metadata": {
    "colab": {
     "base_uri": "https://localhost:8080/",
     "height": 34
    },
    "colab_type": "code",
    "executionInfo": {
     "elapsed": 299,
     "status": "ok",
     "timestamp": 1559578572235,
     "user": {
      "displayName": "Ergun Simsek",
      "photoUrl": "https://lh3.googleusercontent.com/-qBP5H5Ff-uU/AAAAAAAAAAI/AAAAAAAAAAc/lXze-Fwum9g/s64/photo.jpg",
      "userId": "16739529127101354422"
     },
     "user_tz": 240
    },
    "id": "ZXZjBzWNHLTV",
    "outputId": "26288d91-2939-4608-8a55-0df22f7a5e4a"
   },
   "outputs": [
    {
     "name": "stdout",
     "output_type": "stream",
     "text": [
      "Exam Score: 78 and assigned grade is B\n"
     ]
    }
   ],
   "source": [
    "x = randint(0,101)\n",
    "if x>80:\n",
    "  print('Exam Score:', x, 'and assigned grade is A')\n",
    "elif x>60:\n",
    "  print('Exam Score:', x, 'and assigned grade is B')\n",
    "elif x>50:\n",
    "  print('Exam Score:', x, 'and assigned grade is C')\n",
    "elif x>=40:\n",
    "  print('Exam Score:', x, 'and assigned grade is D')\n",
    "else:\n",
    "  print('Exam Score:', x, 'and assigned grade is F')"
   ]
  },
  {
   "cell_type": "markdown",
   "metadata": {},
   "source": [
    "## LOGICAL OPERATORS"
   ]
  },
  {
   "cell_type": "code",
   "execution_count": 20,
   "metadata": {
    "colab": {},
    "colab_type": "code",
    "id": "t797TYK6HaG_"
   },
   "outputs": [],
   "source": [
    "# Logical operators in Python\n",
    "# <\tless than\n",
    "# <=\tless than or equal to\n",
    "# >\tgreater than\n",
    "# >=\tgreater than or equal to\n",
    "# ==\tequal\n",
    "# !=\tnot equal\n",
    "# and\tboth must be true\n",
    "# or\tone or both must be true\n",
    "# not\treverses the truth value"
   ]
  },
  {
   "cell_type": "code",
   "execution_count": 21,
   "metadata": {
    "colab": {},
    "colab_type": "code",
    "id": "H7LtCc3CJAfF"
   },
   "outputs": [],
   "source": [
    "a, b = 5, 10"
   ]
  },
  {
   "cell_type": "code",
   "execution_count": 22,
   "metadata": {
    "colab": {
     "base_uri": "https://localhost:8080/",
     "height": 34
    },
    "colab_type": "code",
    "executionInfo": {
     "elapsed": 246,
     "status": "ok",
     "timestamp": 1559579503128,
     "user": {
      "displayName": "Ergun Simsek",
      "photoUrl": "https://lh3.googleusercontent.com/-qBP5H5Ff-uU/AAAAAAAAAAI/AAAAAAAAAAc/lXze-Fwum9g/s64/photo.jpg",
      "userId": "16739529127101354422"
     },
     "user_tz": 240
    },
    "id": "pKh7LoN1J5ia",
    "outputId": "2430fa10-fc21-4f66-e0e0-6d8d35e20ca6"
   },
   "outputs": [
    {
     "data": {
      "text/plain": [
       "False"
      ]
     },
     "execution_count": 22,
     "metadata": {},
     "output_type": "execute_result"
    }
   ],
   "source": [
    "a == 4"
   ]
  },
  {
   "cell_type": "code",
   "execution_count": 23,
   "metadata": {
    "colab": {
     "base_uri": "https://localhost:8080/",
     "height": 34
    },
    "colab_type": "code",
    "executionInfo": {
     "elapsed": 263,
     "status": "ok",
     "timestamp": 1559579509111,
     "user": {
      "displayName": "Ergun Simsek",
      "photoUrl": "https://lh3.googleusercontent.com/-qBP5H5Ff-uU/AAAAAAAAAAI/AAAAAAAAAAc/lXze-Fwum9g/s64/photo.jpg",
      "userId": "16739529127101354422"
     },
     "user_tz": 240
    },
    "id": "REwboHgNKmCp",
    "outputId": "2a5fd7a8-6fee-4c46-d7bb-7a312fd6d373"
   },
   "outputs": [
    {
     "data": {
      "text/plain": [
       "True"
      ]
     },
     "execution_count": 23,
     "metadata": {},
     "output_type": "execute_result"
    }
   ],
   "source": [
    "a == 5"
   ]
  },
  {
   "cell_type": "code",
   "execution_count": 24,
   "metadata": {
    "colab": {
     "base_uri": "https://localhost:8080/",
     "height": 34
    },
    "colab_type": "code",
    "executionInfo": {
     "elapsed": 277,
     "status": "ok",
     "timestamp": 1559579516866,
     "user": {
      "displayName": "Ergun Simsek",
      "photoUrl": "https://lh3.googleusercontent.com/-qBP5H5Ff-uU/AAAAAAAAAAI/AAAAAAAAAAc/lXze-Fwum9g/s64/photo.jpg",
      "userId": "16739529127101354422"
     },
     "user_tz": 240
    },
    "id": "V3vz9tNMLsA3",
    "outputId": "0bcf7014-35e1-476b-ea8e-f4b6b426a318"
   },
   "outputs": [
    {
     "data": {
      "text/plain": [
       "False"
      ]
     },
     "execution_count": 24,
     "metadata": {},
     "output_type": "execute_result"
    }
   ],
   "source": [
    "a != 5"
   ]
  },
  {
   "cell_type": "code",
   "execution_count": 25,
   "metadata": {
    "colab": {
     "base_uri": "https://localhost:8080/",
     "height": 34
    },
    "colab_type": "code",
    "executionInfo": {
     "elapsed": 262,
     "status": "ok",
     "timestamp": 1559579521704,
     "user": {
      "displayName": "Ergun Simsek",
      "photoUrl": "https://lh3.googleusercontent.com/-qBP5H5Ff-uU/AAAAAAAAAAI/AAAAAAAAAAc/lXze-Fwum9g/s64/photo.jpg",
      "userId": "16739529127101354422"
     },
     "user_tz": 240
    },
    "id": "vk5ehnuhLt50",
    "outputId": "1d04502f-cda5-4010-c032-f68ee4f8bbfa"
   },
   "outputs": [
    {
     "data": {
      "text/plain": [
       "True"
      ]
     },
     "execution_count": 25,
     "metadata": {},
     "output_type": "execute_result"
    }
   ],
   "source": [
    "a != 6"
   ]
  },
  {
   "cell_type": "code",
   "execution_count": 26,
   "metadata": {
    "colab": {
     "base_uri": "https://localhost:8080/",
     "height": 34
    },
    "colab_type": "code",
    "executionInfo": {
     "elapsed": 264,
     "status": "ok",
     "timestamp": 1559579526335,
     "user": {
      "displayName": "Ergun Simsek",
      "photoUrl": "https://lh3.googleusercontent.com/-qBP5H5Ff-uU/AAAAAAAAAAI/AAAAAAAAAAc/lXze-Fwum9g/s64/photo.jpg",
      "userId": "16739529127101354422"
     },
     "user_tz": 240
    },
    "id": "7uS2Fig-LvFk",
    "outputId": "0677eac1-2453-4ce5-fca3-ece5eb38ea0b"
   },
   "outputs": [
    {
     "data": {
      "text/plain": [
       "False"
      ]
     },
     "execution_count": 26,
     "metadata": {},
     "output_type": "execute_result"
    }
   ],
   "source": [
    "a < 5"
   ]
  },
  {
   "cell_type": "code",
   "execution_count": 27,
   "metadata": {
    "colab": {
     "base_uri": "https://localhost:8080/",
     "height": 34
    },
    "colab_type": "code",
    "executionInfo": {
     "elapsed": 283,
     "status": "ok",
     "timestamp": 1559579531354,
     "user": {
      "displayName": "Ergun Simsek",
      "photoUrl": "https://lh3.googleusercontent.com/-qBP5H5Ff-uU/AAAAAAAAAAI/AAAAAAAAAAc/lXze-Fwum9g/s64/photo.jpg",
      "userId": "16739529127101354422"
     },
     "user_tz": 240
    },
    "id": "nsI0h4pCLwN_",
    "outputId": "7092c4cc-d356-4e82-d01a-562f2b53b199"
   },
   "outputs": [
    {
     "data": {
      "text/plain": [
       "True"
      ]
     },
     "execution_count": 27,
     "metadata": {},
     "output_type": "execute_result"
    }
   ],
   "source": [
    "a <=5"
   ]
  },
  {
   "cell_type": "code",
   "execution_count": 28,
   "metadata": {
    "colab": {
     "base_uri": "https://localhost:8080/",
     "height": 34
    },
    "colab_type": "code",
    "executionInfo": {
     "elapsed": 276,
     "status": "ok",
     "timestamp": 1559579539514,
     "user": {
      "displayName": "Ergun Simsek",
      "photoUrl": "https://lh3.googleusercontent.com/-qBP5H5Ff-uU/AAAAAAAAAAI/AAAAAAAAAAc/lXze-Fwum9g/s64/photo.jpg",
      "userId": "16739529127101354422"
     },
     "user_tz": 240
    },
    "id": "wcENbLquLxcC",
    "outputId": "7116b27a-0cdc-42e8-f796-3bb26ce0661b"
   },
   "outputs": [
    {
     "data": {
      "text/plain": [
       "True"
      ]
     },
     "execution_count": 28,
     "metadata": {},
     "output_type": "execute_result"
    }
   ],
   "source": [
    "b > 8"
   ]
  },
  {
   "cell_type": "code",
   "execution_count": 29,
   "metadata": {
    "colab": {
     "base_uri": "https://localhost:8080/",
     "height": 34
    },
    "colab_type": "code",
    "executionInfo": {
     "elapsed": 277,
     "status": "ok",
     "timestamp": 1559579547385,
     "user": {
      "displayName": "Ergun Simsek",
      "photoUrl": "https://lh3.googleusercontent.com/-qBP5H5Ff-uU/AAAAAAAAAAI/AAAAAAAAAAc/lXze-Fwum9g/s64/photo.jpg",
      "userId": "16739529127101354422"
     },
     "user_tz": 240
    },
    "id": "wng6MrpPLzbq",
    "outputId": "8828bf57-a6aa-4702-d510-3df0f2408181"
   },
   "outputs": [
    {
     "data": {
      "text/plain": [
       "True"
      ]
     },
     "execution_count": 29,
     "metadata": {},
     "output_type": "execute_result"
    }
   ],
   "source": [
    "a>2 and b<20"
   ]
  },
  {
   "cell_type": "code",
   "execution_count": 30,
   "metadata": {
    "colab": {
     "base_uri": "https://localhost:8080/",
     "height": 34
    },
    "colab_type": "code",
    "executionInfo": {
     "elapsed": 290,
     "status": "ok",
     "timestamp": 1559579553294,
     "user": {
      "displayName": "Ergun Simsek",
      "photoUrl": "https://lh3.googleusercontent.com/-qBP5H5Ff-uU/AAAAAAAAAAI/AAAAAAAAAAc/lXze-Fwum9g/s64/photo.jpg",
      "userId": "16739529127101354422"
     },
     "user_tz": 240
    },
    "id": "7-bIHBYaL1Wt",
    "outputId": "3c9c0c0b-9cf6-4a8e-fb09-c62f9d33808c"
   },
   "outputs": [
    {
     "data": {
      "text/plain": [
       "False"
      ]
     },
     "execution_count": 30,
     "metadata": {},
     "output_type": "execute_result"
    }
   ],
   "source": [
    "a>2 and b<2"
   ]
  },
  {
   "cell_type": "code",
   "execution_count": 31,
   "metadata": {
    "colab": {
     "base_uri": "https://localhost:8080/",
     "height": 34
    },
    "colab_type": "code",
    "executionInfo": {
     "elapsed": 244,
     "status": "ok",
     "timestamp": 1559579558931,
     "user": {
      "displayName": "Ergun Simsek",
      "photoUrl": "https://lh3.googleusercontent.com/-qBP5H5Ff-uU/AAAAAAAAAAI/AAAAAAAAAAc/lXze-Fwum9g/s64/photo.jpg",
      "userId": "16739529127101354422"
     },
     "user_tz": 240
    },
    "id": "0RTZfjL5L2y0",
    "outputId": "6ec3da59-b8cb-44e9-baf1-1492c9bc23d5"
   },
   "outputs": [
    {
     "data": {
      "text/plain": [
       "True"
      ]
     },
     "execution_count": 31,
     "metadata": {},
     "output_type": "execute_result"
    }
   ],
   "source": [
    "a>2 or b>10"
   ]
  },
  {
   "cell_type": "code",
   "execution_count": 32,
   "metadata": {
    "colab": {
     "base_uri": "https://localhost:8080/",
     "height": 34
    },
    "colab_type": "code",
    "executionInfo": {
     "elapsed": 268,
     "status": "ok",
     "timestamp": 1559579569751,
     "user": {
      "displayName": "Ergun Simsek",
      "photoUrl": "https://lh3.googleusercontent.com/-qBP5H5Ff-uU/AAAAAAAAAAI/AAAAAAAAAAc/lXze-Fwum9g/s64/photo.jpg",
      "userId": "16739529127101354422"
     },
     "user_tz": 240
    },
    "id": "GeyMaZh-L4Ll",
    "outputId": "2aa27ac5-74e9-495d-ab57-89e27b747e32"
   },
   "outputs": [
    {
     "data": {
      "text/plain": [
       "False"
      ]
     },
     "execution_count": 32,
     "metadata": {},
     "output_type": "execute_result"
    }
   ],
   "source": [
    "not a>2"
   ]
  },
  {
   "cell_type": "code",
   "execution_count": 33,
   "metadata": {
    "colab": {
     "base_uri": "https://localhost:8080/",
     "height": 34
    },
    "colab_type": "code",
    "executionInfo": {
     "elapsed": 244,
     "status": "ok",
     "timestamp": 1559579576696,
     "user": {
      "displayName": "Ergun Simsek",
      "photoUrl": "https://lh3.googleusercontent.com/-qBP5H5Ff-uU/AAAAAAAAAAI/AAAAAAAAAAc/lXze-Fwum9g/s64/photo.jpg",
      "userId": "16739529127101354422"
     },
     "user_tz": 240
    },
    "id": "tC2hYpUFL60K",
    "outputId": "a02b7b68-0e31-4922-90d9-a5c855e57982"
   },
   "outputs": [
    {
     "data": {
      "text/plain": [
       "True"
      ]
     },
     "execution_count": 33,
     "metadata": {},
     "output_type": "execute_result"
    }
   ],
   "source": [
    "not a<2"
   ]
  },
  {
   "cell_type": "markdown",
   "metadata": {
    "colab_type": "text",
    "id": "6UcaLwxKMBqn"
   },
   "source": [
    "# For Loops"
   ]
  },
  {
   "cell_type": "code",
   "execution_count": 34,
   "metadata": {},
   "outputs": [
    {
     "name": "stdout",
     "output_type": "stream",
     "text": [
      "1\n",
      "2\n",
      "3\n",
      "4\n",
      "5\n",
      "6\n",
      "7\n",
      "8\n",
      "9\n"
     ]
    }
   ],
   "source": [
    "for i in (1,2,3,4,5,6,7,8,9):\n",
    "    print(i)"
   ]
  },
  {
   "cell_type": "code",
   "execution_count": 35,
   "metadata": {},
   "outputs": [
    {
     "name": "stdout",
     "output_type": "stream",
     "text": [
      "Dale\n",
      "Albert\n",
      "Gordon\n",
      "Tamara\n"
     ]
    }
   ],
   "source": [
    "for name in (\"Dale\", \"Albert\", \"Gordon\", \"Tamara\"):\n",
    "    print(name)"
   ]
  },
  {
   "cell_type": "code",
   "execution_count": 36,
   "metadata": {},
   "outputs": [
    {
     "name": "stdout",
     "output_type": "stream",
     "text": [
      "0\n",
      "1\n",
      "2\n",
      "3\n",
      "4\n",
      "5\n"
     ]
    }
   ],
   "source": [
    "for i in range(6):\n",
    "    print(i)"
   ]
  },
  {
   "cell_type": "code",
   "execution_count": 37,
   "metadata": {},
   "outputs": [
    {
     "name": "stdout",
     "output_type": "stream",
     "text": [
      "5\n",
      "11\n",
      "18\n",
      "26\n",
      "35\n"
     ]
    }
   ],
   "source": [
    "a = 0\n",
    "for i in range(5,10):\n",
    "    a = a + i\n",
    "    print(a)"
   ]
  },
  {
   "cell_type": "code",
   "execution_count": 38,
   "metadata": {
    "colab": {
     "base_uri": "https://localhost:8080/",
     "height": 102
    },
    "colab_type": "code",
    "executionInfo": {
     "elapsed": 273,
     "status": "ok",
     "timestamp": 1559579833939,
     "user": {
      "displayName": "Ergun Simsek",
      "photoUrl": "https://lh3.googleusercontent.com/-qBP5H5Ff-uU/AAAAAAAAAAI/AAAAAAAAAAc/lXze-Fwum9g/s64/photo.jpg",
      "userId": "16739529127101354422"
     },
     "user_tz": 240
    },
    "id": "UXxVKhg2MO1z",
    "outputId": "c055c185-0056-4717-c6e3-62b38d95794a"
   },
   "outputs": [
    {
     "name": "stdout",
     "output_type": "stream",
     "text": [
      "x is 1  and current y is 1\n",
      "x is 3  and current y is 4\n",
      "x is 5  and current y is 9\n",
      "x is 7  and current y is 16\n",
      "x is 9  and current y is 25\n"
     ]
    }
   ],
   "source": [
    "# let's add odd numbers from 1 to 9\n",
    "y = 0\n",
    "for x in range(1, 10, 2):\n",
    "  y = y+x\n",
    "  print(\"x is\", x, \" and current y is\", y)"
   ]
  },
  {
   "cell_type": "code",
   "execution_count": 39,
   "metadata": {
    "colab": {
     "base_uri": "https://localhost:8080/",
     "height": 119
    },
    "colab_type": "code",
    "executionInfo": {
     "elapsed": 241,
     "status": "ok",
     "timestamp": 1559580123537,
     "user": {
      "displayName": "Ergun Simsek",
      "photoUrl": "https://lh3.googleusercontent.com/-qBP5H5Ff-uU/AAAAAAAAAAI/AAAAAAAAAAc/lXze-Fwum9g/s64/photo.jpg",
      "userId": "16739529127101354422"
     },
     "user_tz": 240
    },
    "id": "VLaYnDsNMDat",
    "outputId": "3221163e-b1fe-4111-a0a7-3a5ef2e02f48"
   },
   "outputs": [
    {
     "name": "stdout",
     "output_type": "stream",
     "text": [
      "The name Max has 3 characters\n",
      "The name Molly has 5 characters\n",
      "The name Buster has 6 characters\n",
      "The name Maggie has 6 characters\n",
      "The name Lucy has 4 characters\n",
      "All done.\n"
     ]
    }
   ],
   "source": [
    "for dogname in [\"Max\", \"Molly\", \"Buster\", \"Maggie\", \"Lucy\"]:\n",
    "    print(\"The name\", dogname,\"has\", len(dogname), \"characters\")    \n",
    "print(\"All done.\")"
   ]
  },
  {
   "cell_type": "code",
   "execution_count": 1,
   "metadata": {
    "colab": {},
    "colab_type": "code",
    "id": "8NE9Mx6sMHe-"
   },
   "outputs": [
    {
     "name": "stdout",
     "output_type": "stream",
     "text": [
      "Dale\n",
      "Albert\n",
      "Gordon\n",
      "Tamara\n",
      "Philip\n"
     ]
    }
   ],
   "source": [
    "names = (\"Dale\",\"Albert\",\"Gordon\",\"Tamara\",\"Philip\",\"Chester\",\"Windom\")\n",
    "for name in names[0:5]:\n",
    "    print(name)"
   ]
  },
  {
   "cell_type": "code",
   "execution_count": 41,
   "metadata": {},
   "outputs": [
    {
     "name": "stdout",
     "output_type": "stream",
     "text": [
      "0 Dale\n",
      "1 Albert\n",
      "2 Gordon\n",
      "3 Tamara\n",
      "4 Philip\n",
      "5 Chester\n",
      "6 Windom\n"
     ]
    }
   ],
   "source": [
    "names = (\"Dale\",\"Albert\",\"Gordon\",\"Tamara\",\"Philip\",\"Chester\",\"Windom\")\n",
    "for i in range(len(names)):\n",
    "    print(i, names[i])"
   ]
  },
  {
   "cell_type": "code",
   "execution_count": 42,
   "metadata": {
    "colab": {},
    "colab_type": "code",
    "id": "-4Ps3-eWMSoO"
   },
   "outputs": [],
   "source": [
    "# Example\n",
    "tv_shows = [['How I Met Your Mother', 'Friends', 'Silicon Valley'],\n",
    "    ['Family Guy', 'South Park', 'Rick and Morty'],\n",
    "    ['Breaking Bad', 'Game of Thrones', 'The Wire']]"
   ]
  },
  {
   "cell_type": "code",
   "execution_count": 43,
   "metadata": {
    "colab": {
     "base_uri": "https://localhost:8080/",
     "height": 170
    },
    "colab_type": "code",
    "executionInfo": {
     "elapsed": 263,
     "status": "ok",
     "timestamp": 1559580230775,
     "user": {
      "displayName": "Ergun Simsek",
      "photoUrl": "https://lh3.googleusercontent.com/-qBP5H5Ff-uU/AAAAAAAAAAI/AAAAAAAAAAc/lXze-Fwum9g/s64/photo.jpg",
      "userId": "16739529127101354422"
     },
     "user_tz": 240
    },
    "id": "JVdKMgYUOLY1",
    "outputId": "b0c8ccf0-8a8c-48cf-b1c8-404c8cff8299"
   },
   "outputs": [
    {
     "name": "stdout",
     "output_type": "stream",
     "text": [
      "The title How I Met Your Mother is 21 characters long.\n",
      "The title Friends is 7 characters long.\n",
      "The title Silicon Valley is 14 characters long.\n",
      "The title Family Guy is 10 characters long.\n",
      "The title South Park is 10 characters long.\n",
      "The title Rick and Morty is 14 characters long.\n",
      "The title Breaking Bad is 12 characters long.\n",
      "The title Game of Thrones is 15 characters long.\n",
      "The title The Wire is 8 characters long.\n"
     ]
    }
   ],
   "source": [
    "for sublist in tv_shows:\n",
    "    for show_name in sublist:\n",
    "        char_num = len(show_name)\n",
    "        print(\"The title \" + show_name + \" is \" + str(char_num) + \" characters long.\")"
   ]
  },
  {
   "cell_type": "code",
   "execution_count": 2,
   "metadata": {
    "colab": {
     "base_uri": "https://localhost:8080/",
     "height": 136
    },
    "colab_type": "code",
    "executionInfo": {
     "elapsed": 352,
     "status": "ok",
     "timestamp": 1559580592302,
     "user": {
      "displayName": "Ergun Simsek",
      "photoUrl": "https://lh3.googleusercontent.com/-qBP5H5Ff-uU/AAAAAAAAAAI/AAAAAAAAAAc/lXze-Fwum9g/s64/photo.jpg",
      "userId": "16739529127101354422"
     },
     "user_tz": 240
    },
    "id": "-Gtz9Ar_ONYz",
    "outputId": "15924450-eb63-4736-a14a-e67fc572da74"
   },
   "outputs": [
    {
     "name": "stdout",
     "output_type": "stream",
     "text": [
      "An array of numbers from 0 to 10\n",
      "[ 0.   0.5  1.   1.5  2.   2.5  3.   3.5  4.   4.5  5.   5.5  6.   6.5\n",
      "  7.   7.5  8.   8.5  9.   9.5 10. ]\n",
      "====== and their squares ========\n",
      "[  0.     0.25   1.     2.25   4.     6.25   9.    12.25  16.    20.25\n",
      "  25.    30.25  36.    42.25  49.    56.25  64.    72.25  81.    90.25\n",
      " 100.  ]\n"
     ]
    }
   ],
   "source": [
    "# Example-4\n",
    "# let's take square of each element of the array an array\n",
    "import numpy as np\n",
    "a = np.linspace(0, 10, 21)\n",
    "print(\"An array of numbers from 0 to 10\")\n",
    "print(a)\n",
    "for ii in range(len(a)):\n",
    "    a[ii] = a[ii]*a[ii]\n",
    "print(\"====== and their squares ========\")    \n",
    "print(a)"
   ]
  },
  {
   "cell_type": "code",
   "execution_count": 45,
   "metadata": {
    "colab": {
     "base_uri": "https://localhost:8080/",
     "height": 102
    },
    "colab_type": "code",
    "executionInfo": {
     "elapsed": 294,
     "status": "ok",
     "timestamp": 1559580635682,
     "user": {
      "displayName": "Ergun Simsek",
      "photoUrl": "https://lh3.googleusercontent.com/-qBP5H5Ff-uU/AAAAAAAAAAI/AAAAAAAAAAc/lXze-Fwum9g/s64/photo.jpg",
      "userId": "16739529127101354422"
     },
     "user_tz": 240
    },
    "id": "42dLKIf8PNXH",
    "outputId": "b81b1172-7a1f-4320-9d43-6b3c5f725612"
   },
   "outputs": [
    {
     "name": "stdout",
     "output_type": "stream",
     "text": [
      "[ 0.   0.5  1.   1.5  2.   2.5  3.   3.5  4.   4.5  5.   5.5  6.   6.5\n",
      "  7.   7.5  8.   8.5  9.   9.5 10. ]\n",
      "[  0.     0.25   1.     2.25   4.     6.25   9.    12.25  16.    20.25\n",
      "  25.    30.25  36.    42.25  49.    56.25  64.    72.25  81.    90.25\n",
      " 100.  ]\n"
     ]
    }
   ],
   "source": [
    "# of course, we can do the same using np multiplication\n",
    "a = np.linspace(0, 10, 21)\n",
    "print(a)\n",
    "a = a*a\n",
    "print(a)"
   ]
  },
  {
   "cell_type": "code",
   "execution_count": 46,
   "metadata": {
    "colab": {},
    "colab_type": "code",
    "id": "NiSwhwEvpLcg"
   },
   "outputs": [],
   "source": [
    "# NESTED FOR LOOPS!"
   ]
  },
  {
   "cell_type": "code",
   "execution_count": 47,
   "metadata": {
    "colab": {
     "base_uri": "https://localhost:8080/",
     "height": 221
    },
    "colab_type": "code",
    "executionInfo": {
     "elapsed": 301,
     "status": "ok",
     "timestamp": 1559587223729,
     "user": {
      "displayName": "Ergun Simsek",
      "photoUrl": "https://lh3.googleusercontent.com/-qBP5H5Ff-uU/AAAAAAAAAAI/AAAAAAAAAAc/lXze-Fwum9g/s64/photo.jpg",
      "userId": "16739529127101354422"
     },
     "user_tz": 240
    },
    "id": "1IJA_v-0P_DB",
    "outputId": "47fa9f71-6543-4797-d83f-5f19763032e0"
   },
   "outputs": [
    {
     "name": "stdout",
     "output_type": "stream",
     "text": [
      "1 * 5 = 5\n",
      "1 * 6 = 6\n",
      "1 * 7 = 7\n",
      "1 * 8 = 8\n",
      "2 * 5 = 10\n",
      "2 * 6 = 12\n",
      "2 * 7 = 14\n",
      "2 * 8 = 16\n",
      "3 * 5 = 15\n",
      "3 * 6 = 18\n",
      "3 * 7 = 21\n",
      "3 * 8 = 24\n"
     ]
    }
   ],
   "source": [
    "for x in range(1, 4):\n",
    "    for y in range(5, 9):\n",
    "        print('%d * %d = %d' % (x, y, x*y))"
   ]
  },
  {
   "cell_type": "code",
   "execution_count": 48,
   "metadata": {},
   "outputs": [
    {
     "name": "stdout",
     "output_type": "stream",
     "text": [
      "0\n",
      "1\n",
      "2\n",
      "3\n",
      "4\n",
      "5\n"
     ]
    }
   ],
   "source": [
    "data = [[0,1,2],[3,4,5]]\n",
    "for row in data:\n",
    "    for item in row:\n",
    "        print (item)"
   ]
  },
  {
   "cell_type": "code",
   "execution_count": 49,
   "metadata": {},
   "outputs": [
    {
     "name": "stdout",
     "output_type": "stream",
     "text": [
      "Number of rows= 2\n",
      "Number of columns= 3\n",
      "0 0 0\n",
      "0 1 1\n",
      "0 2 2\n",
      "1 0 3\n",
      "1 1 4\n",
      "1 2 5\n"
     ]
    }
   ],
   "source": [
    "data = [[0,1,2],[3,4,5]]\n",
    "print('Number of rows=',str(len(data)))\n",
    "print('Number of columns=',str(len(data[0])))\n",
    "for i in range(len(data)):\n",
    "    for j in range(len(data[i])):\n",
    "        print (i,j,data[i][j])"
   ]
  },
  {
   "cell_type": "code",
   "execution_count": 50,
   "metadata": {},
   "outputs": [
    {
     "name": "stdout",
     "output_type": "stream",
     "text": [
      "0 1\n",
      "2 3\n",
      "4 5\n"
     ]
    }
   ],
   "source": [
    "data = [\n",
    "[0,1],\n",
    "[2,3],\n",
    "[4,5]\n",
    "]\n",
    "for a,b in data:\n",
    "    print (str(a) + \" \" + str(b))"
   ]
  },
  {
   "cell_type": "markdown",
   "metadata": {
    "colab_type": "text",
    "id": "jT3scL3vQg-1"
   },
   "source": [
    "# WHILE LOOPS"
   ]
  },
  {
   "cell_type": "code",
   "execution_count": 51,
   "metadata": {
    "colab": {},
    "colab_type": "code",
    "id": "Srq11BpEQjkD"
   },
   "outputs": [],
   "source": [
    "# while [a condition is True]:\n",
    "#     [do something]"
   ]
  },
  {
   "cell_type": "code",
   "execution_count": 52,
   "metadata": {},
   "outputs": [
    {
     "name": "stdout",
     "output_type": "stream",
     "text": [
      "1\n",
      "2\n",
      "3\n",
      "4\n",
      "5\n",
      "6\n",
      "7\n",
      "8\n",
      "9\n"
     ]
    }
   ],
   "source": [
    "i = 1\n",
    "while (i < 10): \n",
    "    print (i)\n",
    "    i += 1"
   ]
  },
  {
   "cell_type": "code",
   "execution_count": 53,
   "metadata": {},
   "outputs": [],
   "source": [
    "# Let's find the number which is smaller than 1 million \n",
    "# and divisible by 17"
   ]
  },
  {
   "cell_type": "code",
   "execution_count": 54,
   "metadata": {},
   "outputs": [
    {
     "name": "stdout",
     "output_type": "stream",
     "text": [
      "999991\n"
     ]
    }
   ],
   "source": [
    "i = 1000000\n",
    "while (i != 0):\n",
    "    if (i % 17 == 0): # Modulo Operator (%) returns the remainder of dividing two numbers.\n",
    "        break\n",
    "    i -= 1\n",
    "print (i)"
   ]
  },
  {
   "cell_type": "code",
   "execution_count": 55,
   "metadata": {},
   "outputs": [
    {
     "name": "stdout",
     "output_type": "stream",
     "text": [
      "999991\n",
      "58823.0\n",
      "0\n"
     ]
    }
   ],
   "source": [
    "# let's check\n",
    "print(i)\n",
    "print(i/17.0)\n",
    "print(i % 17)"
   ]
  },
  {
   "cell_type": "code",
   "execution_count": 56,
   "metadata": {
    "colab": {
     "base_uri": "https://localhost:8080/",
     "height": 68
    },
    "colab_type": "code",
    "executionInfo": {
     "elapsed": 4697,
     "status": "ok",
     "timestamp": 1559581031925,
     "user": {
      "displayName": "Ergun Simsek",
      "photoUrl": "https://lh3.googleusercontent.com/-qBP5H5Ff-uU/AAAAAAAAAAI/AAAAAAAAAAc/lXze-Fwum9g/s64/photo.jpg",
      "userId": "16739529127101354422"
     },
     "user_tz": 240
    },
    "id": "QkvytR3cQorX",
    "outputId": "de1edaa5-d31a-46b7-dd07-a2bdd8189d7f"
   },
   "outputs": [
    {
     "name": "stdout",
     "output_type": "stream",
     "text": [
      "What is the password?\n",
      "hello\n",
      "What is the password?\n",
      "abc123\n",
      "You have entered the correct password. You may enter.\n"
     ]
    }
   ],
   "source": [
    "# ANOTHER \"WHILE\" EXAMPLE: password\n",
    "password = ''\n",
    "trial_number = 0\n",
    "while password != 'abc123' and trial_number<3: \n",
    "    print('What is the password?')\n",
    "    password = input()\n",
    "    trial_number = trial_number+1\n",
    "if trial_number==3:\n",
    "  print(\"You have entered wrong password for 3 times\")\n",
    "else:\n",
    "  print('You have entered the correct password. You may enter.')"
   ]
  },
  {
   "cell_type": "code",
   "execution_count": 57,
   "metadata": {
    "colab": {},
    "colab_type": "code",
    "id": "tARBxvZaRT3X"
   },
   "outputs": [],
   "source": [
    "# EXAMPLE-2\n",
    "# GUESSING GAME"
   ]
  },
  {
   "cell_type": "code",
   "execution_count": 58,
   "metadata": {
    "colab": {
     "base_uri": "https://localhost:8080/",
     "height": 187
    },
    "colab_type": "code",
    "executionInfo": {
     "elapsed": 8644,
     "status": "ok",
     "timestamp": 1559581089018,
     "user": {
      "displayName": "Ergun Simsek",
      "photoUrl": "https://lh3.googleusercontent.com/-qBP5H5Ff-uU/AAAAAAAAAAI/AAAAAAAAAAc/lXze-Fwum9g/s64/photo.jpg",
      "userId": "16739529127101354422"
     },
     "user_tz": 240
    },
    "id": "rWuafeSSRoB9",
    "outputId": "c0197967-aa5a-43b6-a23f-cca3a0fb1fc6"
   },
   "outputs": [
    {
     "name": "stdout",
     "output_type": "stream",
     "text": [
      "Guess a number between 1 and 25:\n",
      "34\n",
      "Guess a number between 1 and 25:\n",
      "234\n",
      "Guess a number between 1 and 25:\n",
      "123\n",
      "Guess a number between 1 and 25:\n",
      "1\n",
      "Guess a number between 1 and 25:\n",
      "3\n",
      "Sorry, you did not guessed the number.\n"
     ]
    }
   ],
   "source": [
    "import random\n",
    "number = random.randint(1, 25)\n",
    "number_of_guesses = 0\n",
    "while number_of_guesses < 5:\n",
    "    print('Guess a number between 1 and 25:')\n",
    "    guess = input()\n",
    "    guess = int(guess)\n",
    "    number_of_guesses = number_of_guesses + 1\n",
    "    if guess == number:\n",
    "        print('Congratulations')\n",
    "        break\n",
    "    if number_of_guesses == 5:\n",
    "        print('Sorry, you did not guessed the number.')"
   ]
  },
  {
   "cell_type": "markdown",
   "metadata": {
    "colab": {
     "base_uri": "https://localhost:8080/",
     "height": 136
    },
    "colab_type": "code",
    "executionInfo": {
     "elapsed": 5470,
     "status": "ok",
     "timestamp": 1559581181934,
     "user": {
      "displayName": "Ergun Simsek",
      "photoUrl": "https://lh3.googleusercontent.com/-qBP5H5Ff-uU/AAAAAAAAAAI/AAAAAAAAAAc/lXze-Fwum9g/s64/photo.jpg",
      "userId": "16739529127101354422"
     },
     "user_tz": 240
    },
    "id": "HNEvr9RTRrr7",
    "outputId": "7f65f0ec-48d5-4826-fd77-0961e45a5404"
   },
   "source": [
    "## EXAMPLE-3\n",
    "# Another guessing game (this time we will let user the know what the guess was)\n",
    "# Let's generate a random integer from 1 to 6. then ask the user to make a guess. \n",
    "# If it is the right guess, let user know.\n",
    "# otherwise let's ask them for another try.\n",
    "# but the user  can make 5 guesses at most\n",
    "print(\"The computer chosen an integer from 1 to 6 randomly. Try to guess it. You have 5 chances.\")\n",
    "x = randint(1,6)\n",
    "trial_number = 1\n",
    "while trial_number < 6:\n",
    "  a = int(input(\"Please enter an integer from 1 to 6: \"))\n",
    "  if a==x:    \n",
    "    print(\"You guessed it correctly. Randomly chosen interger was\", x)\n",
    "    break\n",
    "  else:\n",
    "    trial_number = trial_number+1\n",
    "if trial_number == 6:\n",
    "  print(\"The chosen number was \", x)"
   ]
  },
  {
   "cell_type": "code",
   "execution_count": 59,
   "metadata": {
    "colab": {},
    "colab_type": "code",
    "id": "AjVepldoR60I"
   },
   "outputs": [],
   "source": [
    "# EXAMPLE-4\n",
    "# Age guessing game\n",
    "# We'll write a Python script that finds out your age in a maximum of 8 tries! \n",
    "# Your age has to be between 0 and 128\n",
    "# The script asks you only one type of question: guessing your age! # \n",
    "# (e.g. “Are you 67 years old?”) \n",
    "# And you can answer only one of these three options:\n",
    "# less\n",
    "# more\n",
    "# correct\n",
    "# Based on your answer the computer can come up with another guess until it finds out your exact age."
   ]
  },
  {
   "cell_type": "code",
   "execution_count": 60,
   "metadata": {
    "colab": {
     "base_uri": "https://localhost:8080/",
     "height": 136
    },
    "colab_type": "code",
    "executionInfo": {
     "elapsed": 18050,
     "status": "ok",
     "timestamp": 1559581442289,
     "user": {
      "displayName": "Ergun Simsek",
      "photoUrl": "https://lh3.googleusercontent.com/-qBP5H5Ff-uU/AAAAAAAAAAI/AAAAAAAAAAc/lXze-Fwum9g/s64/photo.jpg",
      "userId": "16739529127101354422"
     },
     "user_tz": 240
    },
    "id": "cAF8jaGrSULU",
    "outputId": "52ba80f5-acc4-4020-a61f-2d06a602d545"
   },
   "outputs": [
    {
     "name": "stdout",
     "output_type": "stream",
     "text": [
      "Are you 50 years old?Yes\n",
      "wrong answer\n",
      "Are you 50 years old?No\n",
      "wrong answer\n",
      "Are you 50 years old?more\n",
      "Are you 75 years old?less\n",
      "Are you 62 years old?more\n",
      "Are you 68 years old?less\n",
      "Are you 65 years old?less\n",
      "Are you 63 years old?less\n",
      "Are you 62 years old?less\n"
     ]
    }
   ],
   "source": [
    "down = 0\n",
    "up = 100\n",
    "for i in range(1,10):\n",
    "    guessed_age = int((up + down) / 2)\n",
    "    answer = input('Are you ' + str(guessed_age) + \" years old?\")\n",
    "    if answer == 'correct':\n",
    "        print(\"Nice\")\n",
    "        break\n",
    "    elif answer == 'less':\n",
    "        up = guessed_age\n",
    "    elif answer == 'more':\n",
    "        down = guessed_age\n",
    "    else:\n",
    "        print('wrong answer')"
   ]
  },
  {
   "cell_type": "markdown",
   "metadata": {},
   "source": [
    "### ZIPPING\n",
    "https://docs.python.org/3/library/functions.html#zip"
   ]
  },
  {
   "cell_type": "code",
   "execution_count": 8,
   "metadata": {},
   "outputs": [
    {
     "name": "stdout",
     "output_type": "stream",
     "text": [
      "<zip object at 0x0000028F71779D88>\n",
      "[(1, 10), (2, 20), (3, 30), (4, 40), (5, 50), (22, 60)]\n"
     ]
    }
   ],
   "source": [
    "a = [1,2,3,4,5,22]\n",
    "b = [10,20,30,40,50,60]\n",
    "z = zip(a,b) # Iterate over several iterables in parallel, producing tuples with an item from each one.\n",
    "print(z)\n",
    "print(list(z))"
   ]
  },
  {
   "cell_type": "code",
   "execution_count": 62,
   "metadata": {},
   "outputs": [
    {
     "name": "stdout",
     "output_type": "stream",
     "text": [
      "{}\n"
     ]
    }
   ],
   "source": [
    "d = {}\n",
    "for t in z:\n",
    "    d[t[0]] = t[1]\n",
    "print(d)"
   ]
  },
  {
   "cell_type": "markdown",
   "metadata": {
    "colab": {},
    "colab_type": "code",
    "id": "-rFgNegeSWBc"
   },
   "source": [
    "### ITERATORS"
   ]
  },
  {
   "cell_type": "code",
   "execution_count": 63,
   "metadata": {},
   "outputs": [
    {
     "name": "stdout",
     "output_type": "stream",
     "text": [
      "[0, 1, 2]\n"
     ]
    }
   ],
   "source": [
    "a = list(range(3))\n",
    "print(a)"
   ]
  },
  {
   "cell_type": "code",
   "execution_count": 64,
   "metadata": {},
   "outputs": [
    {
     "name": "stdout",
     "output_type": "stream",
     "text": [
      "<list_iterator object at 0x00000280F191CCD0>\n"
     ]
    }
   ],
   "source": [
    "# let's create an iterator\n",
    "it = iter(a)\n",
    "print(it)"
   ]
  },
  {
   "cell_type": "code",
   "execution_count": 65,
   "metadata": {},
   "outputs": [
    {
     "name": "stdout",
     "output_type": "stream",
     "text": [
      "0\n",
      "1\n",
      "2\n",
      "missing\n",
      "missing\n"
     ]
    }
   ],
   "source": [
    "# The next() function returns the next item from the iterator.\n",
    "# if next() is used as in the form of next(iterator, default)\n",
    "# then \"default\" value is returned if the iterator is exhausted (no items left)\n",
    "\n",
    "# So below what we expect to print 0, 1, 2 first. then there will be no\n",
    "# more item in the iterator, so it will print \"missing\"\n",
    "for i in range(5):\n",
    "    print(next(it, \"missing\"))"
   ]
  },
  {
   "cell_type": "markdown",
   "metadata": {},
   "source": [
    "### Reversing and Sorting"
   ]
  },
  {
   "cell_type": "code",
   "execution_count": 66,
   "metadata": {},
   "outputs": [
    {
     "name": "stdout",
     "output_type": "stream",
     "text": [
      "3\n",
      "2\n",
      "1\n",
      "0\n"
     ]
    }
   ],
   "source": [
    "a = list(range(4))\n",
    "ri = reversed(a)\n",
    "for i in ri:\n",
    "    print(i)"
   ]
  },
  {
   "cell_type": "code",
   "execution_count": 67,
   "metadata": {},
   "outputs": [
    {
     "name": "stdout",
     "output_type": "stream",
     "text": [
      "[1, 0, 9, 2, 7, 5, 5, 4]\n",
      "After sorting......\n",
      "[0, 1, 2, 4, 5, 5, 7, 9]\n"
     ]
    }
   ],
   "source": [
    "b = [1, 0, 9, 2 , 7, 5, 5, 4]\n",
    "print(b)\n",
    "b.sort()\n",
    "print(\"After sorting......\")\n",
    "print(b)"
   ]
  },
  {
   "cell_type": "code",
   "execution_count": 68,
   "metadata": {},
   "outputs": [
    {
     "name": "stdout",
     "output_type": "stream",
     "text": [
      "[0, 1, 2, 4, 5, 5, 7, 9]\n",
      "Note the difference now....\n",
      "[1, 0, 9, 2, 7, 5, 5, 4]\n"
     ]
    }
   ],
   "source": [
    "c = [1, 0, 9, 2 , 7, 5, 5, 4]\n",
    "print(sorted(c))\n",
    "print('Note the difference now....')\n",
    "print(c)"
   ]
  },
  {
   "cell_type": "markdown",
   "metadata": {
    "colab_type": "text",
    "id": "2Lw7KlXgbd5O"
   },
   "source": [
    "# EXERCISES"
   ]
  },
  {
   "cell_type": "code",
   "execution_count": 69,
   "metadata": {
    "colab": {},
    "colab_type": "code",
    "id": "xGXKKlqabfiv"
   },
   "outputs": [],
   "source": [
    "# Write a Python program to find those numbers which are divisible by 7 and multiple of 5, \n",
    "# between 15 and 400 (both included)"
   ]
  },
  {
   "cell_type": "code",
   "execution_count": 70,
   "metadata": {
    "colab": {
     "base_uri": "https://localhost:8080/",
     "height": 34
    },
    "colab_type": "code",
    "executionInfo": {
     "elapsed": 263,
     "status": "ok",
     "timestamp": 1559583727995,
     "user": {
      "displayName": "Ergun Simsek",
      "photoUrl": "https://lh3.googleusercontent.com/-qBP5H5Ff-uU/AAAAAAAAAAI/AAAAAAAAAAc/lXze-Fwum9g/s64/photo.jpg",
      "userId": "16739529127101354422"
     },
     "user_tz": 240
    },
    "id": "wqcKPXTMbkKP",
    "outputId": "90662e85-9443-4cec-b278-04239157262c"
   },
   "outputs": [
    {
     "name": "stdout",
     "output_type": "stream",
     "text": [
      "35,70,105,140,175,210,245,280,315,350,385\n"
     ]
    }
   ],
   "source": [
    "nl=[]\n",
    "for x in range(15, 401):\n",
    "    if (x%7==0) and (x%5==0):\n",
    "        nl.append(str(x))\n",
    "print (','.join(nl))"
   ]
  },
  {
   "cell_type": "code",
   "execution_count": 71,
   "metadata": {
    "colab": {},
    "colab_type": "code",
    "id": "ispHrj_NbrIB"
   },
   "outputs": [],
   "source": [
    "# convert temperatures to and from celsius, fahrenheit"
   ]
  },
  {
   "cell_type": "code",
   "execution_count": 1,
   "metadata": {
    "colab": {
     "base_uri": "https://localhost:8080/",
     "height": 51
    },
    "colab_type": "code",
    "executionInfo": {
     "elapsed": 3461,
     "status": "ok",
     "timestamp": 1559583832592,
     "user": {
      "displayName": "Ergun Simsek",
      "photoUrl": "https://lh3.googleusercontent.com/-qBP5H5Ff-uU/AAAAAAAAAAI/AAAAAAAAAAc/lXze-Fwum9g/s64/photo.jpg",
      "userId": "16739529127101354422"
     },
     "user_tz": 240
    },
    "id": "mmFoLF1qcAuB",
    "outputId": "a5e38fd6-fa2f-4d7e-cf77-dd6e90e36cd5"
   },
   "outputs": [
    {
     "name": "stdout",
     "output_type": "stream",
     "text": [
      "Input the  temperature you like to convert? (e.g., 45F, 102C etc.) : 45f\n",
      "The temperature in Celsius is 7 degrees.\n"
     ]
    }
   ],
   "source": [
    "temp = input(\"Input the  temperature you like to convert? (e.g., 45F, 102C etc.) : \")\n",
    "degree = int(temp[:-1])\n",
    "i_convention = temp[-1]\n",
    "\n",
    "if i_convention.upper() == \"C\":\n",
    "  result = int(round((9 * degree) / 5 + 32))\n",
    "  o_convention = \"Fahrenheit\"\n",
    "elif i_convention.upper() == \"F\":\n",
    "  result = int(round((degree - 32) * 5 / 9))\n",
    "  o_convention = \"Celsius\"\n",
    "else:\n",
    "  print(\"Input proper convention.\")\n",
    "  quit()\n",
    "print(\"The temperature in\", o_convention, \"is\", result, \"degrees.\")"
   ]
  },
  {
   "cell_type": "code",
   "execution_count": 3,
   "metadata": {
    "colab": {},
    "colab_type": "code",
    "id": "Jne5E5z9cIEE"
   },
   "outputs": [],
   "source": [
    "# construct the following pattern, using a nested for loop.\n",
    "# \n",
    "# * \n",
    "# * * \n",
    "# * * * \n",
    "# * * * * \n",
    "# * * * * * \n",
    "# * * * * \n",
    "# * * * \n",
    "# * * \n",
    "# *"
   ]
  },
  {
   "cell_type": "code",
   "execution_count": 6,
   "metadata": {
    "colab": {
     "base_uri": "https://localhost:8080/",
     "height": 187
    },
    "colab_type": "code",
    "executionInfo": {
     "elapsed": 415,
     "status": "ok",
     "timestamp": 1559583896834,
     "user": {
      "displayName": "Ergun Simsek",
      "photoUrl": "https://lh3.googleusercontent.com/-qBP5H5Ff-uU/AAAAAAAAAAI/AAAAAAAAAAc/lXze-Fwum9g/s64/photo.jpg",
      "userId": "16739529127101354422"
     },
     "user_tz": 240
    },
    "id": "ROFjqgQEcXqK",
    "outputId": "cb4e4273-df1f-4269-867f-5969ea71ee12"
   },
   "outputs": [
    {
     "name": "stdout",
     "output_type": "stream",
     "text": [
      "\n",
      "* \n",
      "* * \n",
      "* * * \n",
      "* * * * \n",
      "* * * * * \n",
      "* * * * \n",
      "* * * \n",
      "* * \n",
      "* \n"
     ]
    }
   ],
   "source": [
    "n=5;\n",
    "for i in range(n):\n",
    "    for j in range(i):\n",
    "        print ('* ', end=\"\")\n",
    "    print('')\n",
    "\n",
    "for i in range(n,0,-1):\n",
    "    for j in range(i):\n",
    "        print('* ', end=\"\")\n",
    "    print('')"
   ]
  },
  {
   "cell_type": "code",
   "execution_count": 4,
   "metadata": {
    "colab": {},
    "colab_type": "code",
    "id": "U9rxpB8WcbMZ"
   },
   "outputs": [],
   "source": [
    "# Write a Python program that accepts a word from the user and reverse it."
   ]
  },
  {
   "cell_type": "code",
   "execution_count": 5,
   "metadata": {
    "colab": {
     "base_uri": "https://localhost:8080/",
     "height": 68
    },
    "colab_type": "code",
    "executionInfo": {
     "elapsed": 3041,
     "status": "ok",
     "timestamp": 1559583945016,
     "user": {
      "displayName": "Ergun Simsek",
      "photoUrl": "https://lh3.googleusercontent.com/-qBP5H5Ff-uU/AAAAAAAAAAI/AAAAAAAAAAc/lXze-Fwum9g/s64/photo.jpg",
      "userId": "16739529127101354422"
     },
     "user_tz": 240
    },
    "id": "bCzMktDNcjEu",
    "outputId": "e99cbc53-cd47-4a8b-d288-eb4c443313eb"
   },
   "outputs": [
    {
     "name": "stdout",
     "output_type": "stream",
     "text": [
      "Input a word to reverse: reverse\n",
      "esrever\n",
      "\n"
     ]
    }
   ],
   "source": [
    "word = input(\"Input a word to reverse: \")\n",
    "for char in range(len(word) - 1, -1, -1):\n",
    "  print(word[char], end=\"\")\n",
    "print(\"\\n\")"
   ]
  },
  {
   "cell_type": "markdown",
   "metadata": {},
   "source": [
    "### Notebook End"
   ]
  },
  {
   "cell_type": "code",
   "execution_count": null,
   "metadata": {},
   "outputs": [],
   "source": []
  },
  {
   "cell_type": "code",
   "execution_count": null,
   "metadata": {},
   "outputs": [],
   "source": []
  }
 ],
 "metadata": {
  "colab": {
   "collapsed_sections": [],
   "name": "Conditionals_Loops.ipynb",
   "provenance": [],
   "version": "0.3.2"
  },
  "kernelspec": {
   "display_name": "Python 3.7.5 64-bit",
   "language": "python",
   "name": "python3"
  },
  "language_info": {
   "codemirror_mode": {
    "name": "ipython",
    "version": 3
   },
   "file_extension": ".py",
   "mimetype": "text/x-python",
   "name": "python",
   "nbconvert_exporter": "python",
   "pygments_lexer": "ipython3",
   "version": "3.7.5"
  },
  "vscode": {
   "interpreter": {
    "hash": "0a54084e6b208ee8d1ce3989ffc20924477a5f55f5a43e22e699a6741623861e"
   }
  }
 },
 "nbformat": 4,
 "nbformat_minor": 4
}
